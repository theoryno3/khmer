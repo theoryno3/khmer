{
 "metadata": {
  "name": "benchmark-fu"
 },
 "nbformat": 3,
 "nbformat_minor": 0,
 "worksheets": [
  {
   "cells": [
    {
     "cell_type": "code",
     "collapsed": false,
     "input": [
      "ls"
     ],
     "language": "python",
     "metadata": {},
     "outputs": [
      {
       "output_type": "stream",
       "stream": "stdout",
       "text": [
        "1m-filtered.fa.keep       load-graph-smallmem.time  normalize-tinymem.time\r\n",
        "Makefile                  load-graph-tinymem.time   \u001b[31mtime.sh\u001b[m\u001b[m*\r\n",
        "benchmark-fu.ipynb        normalize-medmem.time     \u001b[34mtmp\u001b[m\u001b[m/\r\n",
        "load-graph-medmem.time    normalize-smallmem.time\r\n"
       ]
      }
     ],
     "prompt_number": 14
    },
    {
     "cell_type": "code",
     "collapsed": false,
     "input": [
      "cat *.time"
     ],
     "language": "python",
     "metadata": {},
     "outputs": [
      {
       "output_type": "stream",
       "stream": "stdout",
       "text": [
        "real 0m9.659s user 0m8.750s sys 0m0.411s\r\n",
        "real 0m23.791s user 0m23.008s sys 0m0.264s\r\n",
        "real 0m21.908s user 0m21.467s sys 0m0.277s\r\n",
        "real 0m56.712s user 0m50.102s sys 0m1.468s\r\n",
        "real 0m27.816s user 0m27.413s sys 0m0.274s\r\n",
        "real 0m25.775s user 0m24.755s sys 0m0.276s\r\n"
       ]
      }
     ],
     "prompt_number": 15
    },
    {
     "cell_type": "code",
     "collapsed": false,
     "input": [
      "def conv_bash_time(t):\n",
      "    m, s = t.split('m')\n",
      "    s = s.rstrip('s')\n",
      "    seconds = float(m)*60 + float(s)\n",
      "    return seconds\n",
      "\n",
      "def load_bash_time(filename):\n",
      "    line = open(filename).readline()\n",
      "    line = line.strip().split()\n",
      "    _, realtime, _, usertime, _, systime = line\n",
      "    realtime = conv_bash_time(realtime)\n",
      "    usertime = conv_bash_time(usertime)\n",
      "    systime = conv_bash_time(systime)\n",
      "\n",
      "    return (realtime, usertime, systime)\n",
      "\n",
      "\n",
      "    "
     ],
     "language": "python",
     "metadata": {},
     "outputs": [],
     "prompt_number": 16
    },
    {
     "cell_type": "code",
     "collapsed": false,
     "input": [
      "import glob\n",
      "filenames = glob.glob('*.time')\n",
      "for filename in filenames:\n",
      "    print filename, load_bash_time(filename)"
     ],
     "language": "python",
     "metadata": {},
     "outputs": [
      {
       "output_type": "stream",
       "stream": "stdout",
       "text": [
        "load-graph-medmem.time (9.659, 8.75, 0.411)\n",
        "load-graph-smallmem.time (23.791, 23.008, 0.264)\n",
        "load-graph-tinymem.time (21.908, 21.467, 0.277)\n",
        "normalize-medmem.time (56.712, 50.102, 1.468)\n",
        "normalize-smallmem.time (27.816, 27.413, 0.274)\n",
        "normalize-tinymem.time (25.775, 24.755, 0.276)\n"
       ]
      }
     ],
     "prompt_number": 17
    },
    {
     "cell_type": "code",
     "collapsed": false,
     "input": [],
     "language": "python",
     "metadata": {},
     "outputs": [],
     "prompt_number": 17
    }
   ],
   "metadata": {}
  }
 ]
}